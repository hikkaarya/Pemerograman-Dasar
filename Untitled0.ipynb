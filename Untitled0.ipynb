{
  "nbformat": 4,
  "nbformat_minor": 0,
  "metadata": {
    "colab": {
      "provenance": [],
      "authorship_tag": "ABX9TyNkXmIgZsQgaFAzlLgDBloX",
      "include_colab_link": true
    },
    "kernelspec": {
      "name": "python3",
      "display_name": "Python 3"
    },
    "language_info": {
      "name": "python"
    }
  },
  "cells": [
    {
      "cell_type": "markdown",
      "metadata": {
        "id": "view-in-github",
        "colab_type": "text"
      },
      "source": [
        "<a href=\"https://colab.research.google.com/github/hikkaarya/Pemerograman-Dasar/blob/main/Untitled0.ipynb\" target=\"_parent\"><img src=\"https://colab.research.google.com/assets/colab-badge.svg\" alt=\"Open In Colab\"/></a>"
      ]
    },
    {
      "cell_type": "code",
      "execution_count": null,
      "metadata": {
        "colab": {
          "base_uri": "https://localhost:8080/"
        },
        "id": "tk9HXKyTdalJ",
        "outputId": "1f59591c-c4c8-4b53-d973-ffa7dcb8ef96"
      },
      "outputs": [
        {
          "output_type": "stream",
          "name": "stdout",
          "text": [
            "Arya\n",
            "21\n",
            "RPE\n",
            "3\n",
            "Pemerograman Dasar\n",
            "False\n"
          ]
        }
      ],
      "source": [
        "# Biodata Saya\n",
        "\n",
        "\n",
        "nama = \"Arya\"\n",
        "umur = 21\n",
        "jurusan = \"RPE\"\n",
        "semester = 3\n",
        "matakuliah = 'Pemerograman Dasar'\n",
        "status_lulus = False\n",
        "\n",
        "\n",
        "print (nama)\n",
        "print (umur)\n",
        "print (jurusan)\n",
        "print (semester)\n",
        "print (matakuliah)\n",
        "print (status_lulus)\n",
        "\n"
      ]
    }
  ]
}