{
  "nbformat": 4,
  "nbformat_minor": 0,
  "metadata": {
    "colab": {
      "provenance": [],
      "authorship_tag": "ABX9TyP0g7m1GHHAlhw3Vx2G7PVa",
      "include_colab_link": true
    },
    "kernelspec": {
      "name": "python3",
      "display_name": "Python 3"
    },
    "language_info": {
      "name": "python"
    }
  },
  "cells": [
    {
      "cell_type": "markdown",
      "metadata": {
        "id": "view-in-github",
        "colab_type": "text"
      },
      "source": [
        "<a href=\"https://colab.research.google.com/github/hikkaarya/Pemerograman-Dasar/blob/main/Untitled0.ipynb\" target=\"_parent\"><img src=\"https://colab.research.google.com/assets/colab-badge.svg\" alt=\"Open In Colab\"/></a>"
      ]
    },
    {
      "cell_type": "code",
      "execution_count": 1,
      "metadata": {
        "colab": {
          "base_uri": "https://localhost:8080/"
        },
        "id": "ndZ0KSS_sDar",
        "outputId": "e5bc159c-7cca-45da-cfed-878a332d4362"
      },
      "outputs": [
        {
          "output_type": "stream",
          "name": "stdout",
          "text": [
            "Masukkan nama Anda: Muhammad Hikka\n",
            "Masukkan umur Anda: 21\n",
            "\n",
            "Halo Muhammad Hikka, Anda termasuk kategori Dewasa.\n",
            "\n",
            "Daftar produk dan harga:\n",
            "- Kopi : Rp15000\n",
            "- Teh : Rp10000\n",
            "- Susu : Rp12000\n",
            "\n",
            "Diskon tersedia:\n",
            "10% untuk member tertentu\n",
            "5% untuk member tertentu\n",
            "15% untuk member tertentu\n",
            "\n",
            "Data Pelanggan:\n",
            "Nama: Muhammad Hikka\n",
            "Umur: 21\n",
            "Member: True\n"
          ]
        }
      ],
      "source": [
        "def data_pelanggan():\n",
        "    # Tipe data primitif\n",
        "    nama = input(\"Masukkan nama Anda: \")        # string\n",
        "    umur = int(input(\"Masukkan umur Anda: \"))   # int\n",
        "    member = True if umur >= 17 else False      # boolean\n",
        "\n",
        "    # Tipe data non-primitif\n",
        "    produk_favorit = [\"kopi\", \"teh\", \"susu\"]   # list\n",
        "    harga_produk = (15000, 10000, 12000)       # tuple\n",
        "    pelanggan = {\"nama\": nama, \"umur\": umur, \"member\": member}  # dictionary\n",
        "    diskon_set = {5, 10, 15}                   # set\n",
        "\n",
        "    # Percabangan (if, elif, else)\n",
        "    if umur < 12:\n",
        "        kategori = \"Anak-anak\"\n",
        "    elif umur < 18:\n",
        "        kategori = \"Remaja\"\n",
        "    else:\n",
        "        kategori = \"Dewasa\"\n",
        "\n",
        "    # Menampilkan hasil awal\n",
        "    print(f\"\\nHalo {nama}, Anda termasuk kategori {kategori}.\")\n",
        "\n",
        "    # Perulangan for: menampilkan produk dan harga\n",
        "    print(\"\\nDaftar produk dan harga:\")\n",
        "    for i in range(len(produk_favorit)):\n",
        "        print(f\"- {produk_favorit[i].title()} : Rp{harga_produk[i]}\")\n",
        "\n",
        "    # Perulangan while: menampilkan diskon yang tersedia\n",
        "    print(\"\\nDiskon tersedia:\")\n",
        "    i = 0\n",
        "    diskon_list = list(diskon_set)\n",
        "    while i < len(diskon_list):\n",
        "        print(f\"{diskon_list[i]}% untuk member tertentu\")\n",
        "        i += 1\n",
        "\n",
        "    # Menampilkan informasi pelanggan dari dictionary\n",
        "    print(\"\\nData Pelanggan:\")\n",
        "    for k, v in pelanggan.items():\n",
        "        print(f\"{k.capitalize()}: {v}\")\n",
        "\n",
        "# Pemanggilan fungsi\n",
        "data_pelanggan()\n"
      ]
    }
  ]
}