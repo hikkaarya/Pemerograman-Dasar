{
  "nbformat": 4,
  "nbformat_minor": 0,
  "metadata": {
    "colab": {
      "provenance": [],
      "authorship_tag": "ABX9TyNCU10PSBVuzceTjoQ8f1OR",
      "include_colab_link": true
    },
    "kernelspec": {
      "name": "python3",
      "display_name": "Python 3"
    },
    "language_info": {
      "name": "python"
    }
  },
  "cells": [
    {
      "cell_type": "markdown",
      "metadata": {
        "id": "view-in-github",
        "colab_type": "text"
      },
      "source": [
        "<a href=\"https://colab.research.google.com/github/hikkaarya/Pemerograman-Dasar/blob/main/Untitled0.ipynb\" target=\"_parent\"><img src=\"https://colab.research.google.com/assets/colab-badge.svg\" alt=\"Open In Colab\"/></a>"
      ]
    },
    {
      "cell_type": "code",
      "execution_count": 26,
      "metadata": {
        "id": "cJZkwkODfo0o",
        "colab": {
          "base_uri": "https://localhost:8080/",
          "height": 373
        },
        "outputId": "01dfa9e8-7833-44a0-9fc0-3bce7274d3cb"
      },
      "outputs": [
        {
          "output_type": "error",
          "ename": "KeyboardInterrupt",
          "evalue": "Interrupted by user",
          "traceback": [
            "\u001b[0;31m---------------------------------------------------------------------------\u001b[0m",
            "\u001b[0;31mKeyboardInterrupt\u001b[0m                         Traceback (most recent call last)",
            "\u001b[0;32m/tmp/ipython-input-1030831373.py\u001b[0m in \u001b[0;36m<cell line: 0>\u001b[0;34m()\u001b[0m\n\u001b[1;32m      1\u001b[0m \u001b[0;31m# Program input dengan tipe data float dan string\u001b[0m\u001b[0;34m\u001b[0m\u001b[0;34m\u001b[0m\u001b[0m\n\u001b[1;32m      2\u001b[0m \u001b[0;34m\u001b[0m\u001b[0m\n\u001b[0;32m----> 3\u001b[0;31m \u001b[0mtotal\u001b[0m \u001b[0;34m=\u001b[0m \u001b[0mfloat\u001b[0m\u001b[0;34m(\u001b[0m\u001b[0minput\u001b[0m\u001b[0;34m(\u001b[0m\u001b[0;34m\"Berapa porsi makan yang Anda beli? : \"\u001b[0m\u001b[0;34m)\u001b[0m\u001b[0;34m)\u001b[0m\u001b[0;34m\u001b[0m\u001b[0;34m\u001b[0m\u001b[0m\n\u001b[0m\u001b[1;32m      4\u001b[0m \u001b[0mnama\u001b[0m  \u001b[0;34m=\u001b[0m \u001b[0mstr\u001b[0m\u001b[0;34m(\u001b[0m\u001b[0minput\u001b[0m\u001b[0;34m(\u001b[0m\u001b[0;34m\"Siapa Nama Pelanggan ? : \"\u001b[0m\u001b[0;34m)\u001b[0m\u001b[0;34m)\u001b[0m\u001b[0;34m\u001b[0m\u001b[0;34m\u001b[0m\u001b[0m\n\u001b[1;32m      5\u001b[0m \u001b[0;34m\u001b[0m\u001b[0m\n",
            "\u001b[0;32m/usr/local/lib/python3.12/dist-packages/ipykernel/kernelbase.py\u001b[0m in \u001b[0;36mraw_input\u001b[0;34m(self, prompt)\u001b[0m\n\u001b[1;32m   1175\u001b[0m                 \u001b[0;34m\"raw_input was called, but this frontend does not support input requests.\"\u001b[0m\u001b[0;34m\u001b[0m\u001b[0;34m\u001b[0m\u001b[0m\n\u001b[1;32m   1176\u001b[0m             )\n\u001b[0;32m-> 1177\u001b[0;31m         return self._input_request(\n\u001b[0m\u001b[1;32m   1178\u001b[0m             \u001b[0mstr\u001b[0m\u001b[0;34m(\u001b[0m\u001b[0mprompt\u001b[0m\u001b[0;34m)\u001b[0m\u001b[0;34m,\u001b[0m\u001b[0;34m\u001b[0m\u001b[0;34m\u001b[0m\u001b[0m\n\u001b[1;32m   1179\u001b[0m             \u001b[0mself\u001b[0m\u001b[0;34m.\u001b[0m\u001b[0m_parent_ident\u001b[0m\u001b[0;34m[\u001b[0m\u001b[0;34m\"shell\"\u001b[0m\u001b[0;34m]\u001b[0m\u001b[0;34m,\u001b[0m\u001b[0;34m\u001b[0m\u001b[0;34m\u001b[0m\u001b[0m\n",
            "\u001b[0;32m/usr/local/lib/python3.12/dist-packages/ipykernel/kernelbase.py\u001b[0m in \u001b[0;36m_input_request\u001b[0;34m(self, prompt, ident, parent, password)\u001b[0m\n\u001b[1;32m   1217\u001b[0m             \u001b[0;32mexcept\u001b[0m \u001b[0mKeyboardInterrupt\u001b[0m\u001b[0;34m:\u001b[0m\u001b[0;34m\u001b[0m\u001b[0;34m\u001b[0m\u001b[0m\n\u001b[1;32m   1218\u001b[0m                 \u001b[0;31m# re-raise KeyboardInterrupt, to truncate traceback\u001b[0m\u001b[0;34m\u001b[0m\u001b[0;34m\u001b[0m\u001b[0m\n\u001b[0;32m-> 1219\u001b[0;31m                 \u001b[0;32mraise\u001b[0m \u001b[0mKeyboardInterrupt\u001b[0m\u001b[0;34m(\u001b[0m\u001b[0;34m\"Interrupted by user\"\u001b[0m\u001b[0;34m)\u001b[0m \u001b[0;32mfrom\u001b[0m \u001b[0;32mNone\u001b[0m\u001b[0;34m\u001b[0m\u001b[0;34m\u001b[0m\u001b[0m\n\u001b[0m\u001b[1;32m   1220\u001b[0m             \u001b[0;32mexcept\u001b[0m \u001b[0mException\u001b[0m\u001b[0;34m:\u001b[0m\u001b[0;34m\u001b[0m\u001b[0;34m\u001b[0m\u001b[0m\n\u001b[1;32m   1221\u001b[0m                 \u001b[0mself\u001b[0m\u001b[0;34m.\u001b[0m\u001b[0mlog\u001b[0m\u001b[0;34m.\u001b[0m\u001b[0mwarning\u001b[0m\u001b[0;34m(\u001b[0m\u001b[0;34m\"Invalid Message:\"\u001b[0m\u001b[0;34m,\u001b[0m \u001b[0mexc_info\u001b[0m\u001b[0;34m=\u001b[0m\u001b[0;32mTrue\u001b[0m\u001b[0;34m)\u001b[0m\u001b[0;34m\u001b[0m\u001b[0;34m\u001b[0m\u001b[0m\n",
            "\u001b[0;31mKeyboardInterrupt\u001b[0m: Interrupted by user"
          ]
        }
      ],
      "source": [
        "# Program input dengan tipe data float dan string\n",
        "\n",
        "total = float(input(\"Berapa porsi makan yang Anda beli? : \"))\n",
        "nama  = str(input(\"Siapa Nama Pelanggan ? : \"))\n",
        "\n",
        "print(\"\\n--- Output ---\")\n",
        "print(\"Nama Pelanggan :\", nama)\n",
        "print(\"Jumlah Porsi   :\", total)\n"
      ]
    },
    {
      "cell_type": "code",
      "source": [
        "# Contoh penggunaan berbagai operator format output\n",
        "\n",
        "nama   = \"Arya\"\n",
        "makanan = \"Mi ayam bakso\"\n",
        "porsi  = 3          # integer\n",
        "harga  = 12.5       # float\n",
        "kode   = 255        # integer untuk contoh hex dan octal\n",
        "\n",
        "print(\"=== Contoh Output dengan Format ===\")\n",
        "print(\"%s sedang memesan %s\" % (nama, makanan))     # %s untuk string\n",
        "print(\"Jumlah porsi: %d\" % porsi)                   # %d untuk integer\n",
        "print(\"Harga per porsi: %f\" % harga)                # %f untuk float\n",
        "print(\"Kode pesanan dalam hex: %x\" % kode)          # %x untuk heksadesimal\n",
        "print(\"Kode pesanan dalam octal: %o\" % kode)        # %o untuk oktal\n"
      ],
      "metadata": {
        "id": "ppqd-p3vnQmA",
        "colab": {
          "base_uri": "https://localhost:8080/"
        },
        "outputId": "89f36a08-aa18-45d0-9a9e-73cec962e244"
      },
      "execution_count": 23,
      "outputs": [
        {
          "metadata": {
            "tags": null
          },
          "name": "stdout",
          "output_type": "stream",
          "text": [
            "=== Contoh Output dengan Format ===\n",
            "Arya sedang memesan Mi ayam bakso\n",
            "Jumlah porsi: 3\n",
            "Harga per porsi: 12.500000\n",
            "Kode pesanan dalam hex: ff\n",
            "Kode pesanan dalam octal: 377\n"
          ]
        }
      ]
    },
    {
      "cell_type": "code",
      "source": [
        "# Konversi Waktu dari Total Detik ke Jam:Menit:Detik\n",
        "\n",
        "# Input dari keyboard\n",
        "total_detik = int(input(\"Masukkan total detik: \"))\n",
        "\n",
        "# Hitung jam, menit, detik\n",
        "jam = total_detik // 3600\n",
        "sisa_detik = total_detik % 3600\n",
        "menit = sisa_detik // 60\n",
        "detik = sisa_detik % 60\n",
        "\n",
        "# Tampilkan hasil\n",
        "print(f\"Hasil Konversi: {jam} Jam, {menit} Menit, {detik} Detik\")\n"
      ],
      "metadata": {
        "id": "hcHm8qx3slmf",
        "colab": {
          "base_uri": "https://localhost:8080/"
        },
        "outputId": "a413f793-6948-46fb-d816-6b3463b839ce"
      },
      "execution_count": 24,
      "outputs": [
        {
          "output_type": "stream",
          "name": "stdout",
          "text": [
            "Masukkan total detik: 358200\n",
            "Hasil Konversi: 99 Jam, 30 Menit, 0 Detik\n"
          ]
        }
      ]
    },
    {
      "cell_type": "code",
      "source": [
        "# Program Menghitung Nilai Akhir Mahasiswa\n",
        "\n",
        "# Input nilai mahasiswa\n",
        "tugas = float(input(\"Masukkan nilai Tugas: \"))\n",
        "kuis = float(input(\"Masukkan nilai Kuis: \"))\n",
        "uts = float(input(\"Masukkan nilai UTS: \"))\n",
        "uas = float(input(\"Masukkan nilai UAS: \"))\n",
        "praktikum = float(input(\"Masukkan nilai Praktikum: \"))\n",
        "\n",
        "# Hitung nilai akhir (bobot bisa disesuaikan sesuai aturan dosen)\n",
        "nilai_mahasiswa = (0.2 * tugas) + (0.1 * kuis) + (0.3 * uts) + (0.3 * uas) + (0.1 * praktikum)\n",
        "\n",
        "# Input standar kelulusan\n",
        "standar_kelulusan = float(input(\"Masukkan standar kelulusan: \"))\n",
        "\n",
        "# Cek apakah lulus atau remedial\n",
        "apakah_lulus = nilai_mahasiswa >= standar_kelulusan\n",
        "perlu_remedial = nilai_mahasiswa < standar_kelulusan\n",
        "\n",
        "# Tampilkan hasil\n",
        "print(\"\\n=== Hasil Akhir ===\")\n",
        "print(f\"Nilai Akhir Mahasiswa: {nilai_mahasiswa}\")\n",
        "print(f\"Standar Kelulusan: {standar_kelulusan}\")\n",
        "print(f\"Apakah Mahasiswa Lulus? {apakah_lulus}\")\n",
        "print(f\"Perlu Remedial? {perlu_remedial}\")\n"
      ],
      "metadata": {
        "id": "2kXB3jdUxa7A",
        "colab": {
          "base_uri": "https://localhost:8080/"
        },
        "outputId": "11b87b52-2901-45e0-a25a-5460362c2828"
      },
      "execution_count": 1,
      "outputs": [
        {
          "output_type": "stream",
          "name": "stdout",
          "text": [
            "Masukkan nilai Tugas: 80\n",
            "Masukkan nilai Kuis: 70\n",
            "Masukkan nilai UTS: 75\n",
            "Masukkan nilai UAS: 85\n",
            "Masukkan nilai Praktikum: 90\n",
            "Masukkan standar kelulusan: 70\n",
            "\n",
            "=== Hasil Akhir ===\n",
            "Nilai Akhir Mahasiswa: 80.0\n",
            "Standar Kelulusan: 70.0\n",
            "Apakah Mahasiswa Lulus? True\n",
            "Perlu Remedial? False\n"
          ]
        }
      ]
    },
    {
      "cell_type": "code",
      "source": [
        "# Program Menghitung Total Harga dengan Diskon\n",
        "\n",
        "# Input belanja via keyboard\n",
        "belanja = int(input(\"Masukkan total belanja: \"))\n",
        "\n",
        "# Hitung diskon\n",
        "diskon = (0, 0.35 * belanja)[belanja > 1000000]\n",
        "\n",
        "# Hitung total harga setelah diskon\n",
        "total_harga = belanja - diskon\n",
        "\n",
        "# Tampilkan hasil\n",
        "print(\"Total harga setelah diskon =\", total_harga)\n"
      ],
      "metadata": {
        "id": "j3LdNbrG0Vs2",
        "colab": {
          "base_uri": "https://localhost:8080/"
        },
        "outputId": "8843d4a7-4ee7-47de-950c-df304af7defd"
      },
      "execution_count": 2,
      "outputs": [
        {
          "output_type": "stream",
          "name": "stdout",
          "text": [
            "Masukkan total belanja: 1100000\n",
            "Total harga setelah diskon = 715000.0\n"
          ]
        }
      ]
    },
    {
      "cell_type": "code",
      "source": [
        "(tahun % 4 == 0 and tahun % 100 != 0) or (tahun % 400 == 0)\n"
      ],
      "metadata": {
        "id": "tGJXGS7C3JBV"
      },
      "execution_count": null,
      "outputs": []
    },
    {
      "cell_type": "code",
      "source": [
        "# Fungsi input tahun\n",
        "def input_tahun():\n",
        "    return int(input(\"Masukkan tahun: \"))\n",
        "\n",
        "# Fungsi untuk mengecek apakah tahun kabisat\n",
        "def cek_kabisat(tahun):\n",
        "    return (tahun % 4 == 0 and tahun % 100 != 0) or (tahun % 400 == 0)\n",
        "\n",
        "# Fungsi output hasil tanpa if\n",
        "def output_hasil(tahun, hasil):\n",
        "    print(f\"Tahun {tahun} adalah tahun kabisat? {hasil}\")\n",
        "\n",
        "# Program utama\n",
        "def main():\n",
        "    tahun = input_tahun()\n",
        "    hasil = cek_kabisat(tahun)\n",
        "    output_hasil(tahun, hasil)\n",
        "\n",
        "# Jalankan program\n",
        "main()\n"
      ],
      "metadata": {
        "id": "JPGJEc4u3ZvM",
        "colab": {
          "base_uri": "https://localhost:8080/"
        },
        "outputId": "b50b2647-1f05-44f6-982a-7ac254dfacc7"
      },
      "execution_count": 4,
      "outputs": [
        {
          "output_type": "stream",
          "name": "stdout",
          "text": [
            "Masukkan tahun: 2100\n",
            "Tahun 2100 adalah tahun kabisat? False\n"
          ]
        }
      ]
    },
    {
      "cell_type": "code",
      "source": [
        "# Program Kasir Sederhana Kedai Kopi\n",
        "\n",
        "# Input data belanja (harga tiap item dalam list)\n",
        "items = [25000, 30000, 55000]   # contoh: 3 item kopi\n",
        "is_member = True                # status pelanggan (True jika member, False jika bukan)\n",
        "\n",
        "# 1. Hitung Subtotal\n",
        "subtotal = sum(items)\n",
        "\n",
        "# 2. Evaluasi syarat diskon\n",
        "syarat_diskon = is_member and subtotal > 100000\n",
        "\n",
        "# 3. Hitung jumlah diskon (15% jika memenuhi syarat, kalau tidak 0)\n",
        "diskon = (0.15 * subtotal) * syarat_diskon\n",
        "\n",
        "# 4. Hitung harga setelah diskon\n",
        "harga_setelah_diskon = subtotal - diskon\n",
        "\n",
        "# 5. Hitung PPN (11% dari harga setelah diskon)\n",
        "ppn = 0.11 * harga_setelah_diskon\n",
        "\n",
        "# 6. Hitung total akhir\n",
        "total_akhir = harga_setelah_diskon + ppn\n",
        "\n",
        "# Output hasil\n",
        "print(\"==== Struk Belanja Kedai Kopi ====\")\n",
        "print(f\"Subtotal            : Rp{subtotal:,.0f}\")\n",
        "print(f\"Diskon              : Rp{diskon:,.0f}\")\n",
        "print(f\"Harga setelah diskon: Rp{harga_setelah_diskon:,.0f}\")\n",
        "print(f\"PPN (11%)           : Rp{ppn:,.0f}\")\n",
        "print(f\"Total Akhir         : Rp{total_akhir:,.0f}\")\n",
        "\n"
      ],
      "metadata": {
        "id": "Z91yu3Zd5-El",
        "colab": {
          "base_uri": "https://localhost:8080/"
        },
        "outputId": "c19acbf7-e00b-4cbc-bc89-09844d5a17d8"
      },
      "execution_count": 5,
      "outputs": [
        {
          "output_type": "stream",
          "name": "stdout",
          "text": [
            "==== Struk Belanja Kedai Kopi ====\n",
            "Subtotal            : Rp110,000\n",
            "Diskon              : Rp16,500\n",
            "Harga setelah diskon: Rp93,500\n",
            "PPN (11%)           : Rp10,285\n",
            "Total Akhir         : Rp103,785\n"
          ]
        }
      ]
    }
  ]
}