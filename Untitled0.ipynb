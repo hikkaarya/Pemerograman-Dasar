{
  "nbformat": 4,
  "nbformat_minor": 0,
  "metadata": {
    "colab": {
      "provenance": [],
      "authorship_tag": "ABX9TyN9OxGr03r80+UK4Sjl4alS",
      "include_colab_link": true
    },
    "kernelspec": {
      "name": "python3",
      "display_name": "Python 3"
    },
    "language_info": {
      "name": "python"
    }
  },
  "cells": [
    {
      "cell_type": "markdown",
      "metadata": {
        "id": "view-in-github",
        "colab_type": "text"
      },
      "source": [
        "<a href=\"https://colab.research.google.com/github/hikkaarya/Pemerograman-Dasar/blob/main/Untitled0.ipynb\" target=\"_parent\"><img src=\"https://colab.research.google.com/assets/colab-badge.svg\" alt=\"Open In Colab\"/></a>"
      ]
    },
    {
      "cell_type": "code",
      "execution_count": 1,
      "metadata": {
        "colab": {
          "base_uri": "https://localhost:8080/"
        },
        "id": "JklO82KY4f5d",
        "outputId": "442d0b02-9c80-4852-8396-e36de4a7eab0"
      },
      "outputs": [
        {
          "output_type": "stream",
          "name": "stdout",
          "text": [
            "Sistem siap. Selamat datang kembali di sesi praktikum.\n"
          ]
        }
      ],
      "source": [
        "# SOAL 1: Fungsi Inisialisasi Sederhana\n",
        "def sapa_praktikan():  # Argumen diisi kosong\n",
        "    \"\"\"Mencetak pesan sambutan dasar.\"\"\"\n",
        "    print(\"Sistem siap. Selamat datang kembali di sesi praktikum.\")\n",
        "\n",
        "# Pemanggilan:\n",
        "sapa_praktikan()"
      ]
    },
    {
      "cell_type": "code",
      "source": [
        "# MODIFIKASI: Fungsi untuk Menampilkan Biodata Lengkap\n",
        "def tampilkan_biodata():\n",
        "    \"\"\"Menampilkan biodata lengkap.\"\"\"\n",
        "    print(\"\\n--- BIODATA LENGKAP ---\")\n",
        "    print(\"Nama: [Nama Lengkap Anda]\")\n",
        "    print(\"NIM: [NIM/Nomor Induk Anda]\")\n",
        "    print(\"Jurusan: [Jurusan Anda]\")\n",
        "    print(\"Universitas: [Nama Universitas Anda]\")\n",
        "    print(\"-------------------------\")\n",
        "\n",
        "# Pemanggilan:\n",
        "tampilkan_biodata()"
      ],
      "metadata": {
        "colab": {
          "base_uri": "https://localhost:8080/"
        },
        "id": "LOe65H8H93Mf",
        "outputId": "21f46515-46dd-4888-fbc6-746bc541a4dc"
      },
      "execution_count": 2,
      "outputs": [
        {
          "output_type": "stream",
          "name": "stdout",
          "text": [
            "\n",
            "--- BIODATA LENGKAP ---\n",
            "Nama: [Nama Lengkap Anda]\n",
            "NIM: [NIM/Nomor Induk Anda]\n",
            "Jurusan: [Jurusan Anda]\n",
            "Universitas: [Nama Universitas Anda]\n",
            "-------------------------\n"
          ]
        }
      ]
    },
    {
      "cell_type": "code",
      "source": [
        "# SOAL 2: Menghitung Volume Kubus\n",
        "def hitung_volume_kubus(sisi):\n",
        "    \"\"\"Menghitung volume kubus dari panjang sisinya.\"\"\"\n",
        "    # Menggunakan operator pangkat (**) untuk sisi pangkat tiga\n",
        "    return sisi ** 3\n",
        "    # Alternatif lain: return sisi * sisi * sisi\n",
        "\n",
        "# Pemanggilan:\n",
        "panjang_sisi = 5\n",
        "print(f\"Volume kubus dengan sisi {panjang_sisi} adalah: {hitung_volume_kubus(panjang_sisi)}\")"
      ],
      "metadata": {
        "colab": {
          "base_uri": "https://localhost:8080/"
        },
        "id": "jKNd_9_r-XCv",
        "outputId": "84cb00ef-a427-458d-a9df-ee6af4802871"
      },
      "execution_count": 3,
      "outputs": [
        {
          "output_type": "stream",
          "name": "stdout",
          "text": [
            "Volume kubus dengan sisi 5 adalah: 125\n"
          ]
        }
      ]
    },
    {
      "cell_type": "code",
      "source": [
        "# MODIFIKASI: Fungsi untuk Menghitung Volume Balok\n",
        "def hitung_volume_balok(panjang, lebar, tinggi):\n",
        "    \"\"\"Menghitung volume balok dari panjang, lebar, dan tingginya.\"\"\"\n",
        "    # Mengalikan ketiga parameter\n",
        "    volume = panjang * lebar * tinggi\n",
        "    return volume\n",
        "\n",
        "# Pemanggilan:\n",
        "p = 10\n",
        "l = 4\n",
        "t = 5\n",
        "hasil_volume_balok = hitung_volume_balok(p, l, t)\n",
        "print(f\"Volume balok (P={p}, L={l}, T={t}) adalah: {hasil_volume_balok}\")"
      ],
      "metadata": {
        "colab": {
          "base_uri": "https://localhost:8080/"
        },
        "id": "_tSKbpQ8_RyA",
        "outputId": "35680aec-0715-4e0b-8f54-1e61ac9b2c12"
      },
      "execution_count": 4,
      "outputs": [
        {
          "output_type": "stream",
          "name": "stdout",
          "text": [
            "Volume balok (P=10, L=4, T=5) adalah: 200\n"
          ]
        }
      ]
    },
    {
      "cell_type": "code",
      "source": [
        "# SOAL 3: Menghitung Rata-rata dari List Nilai\n",
        "def hitung_rata_rata(data_nilai):\n",
        "    \"\"\"Menghitung rata-rata dari list angka menggunakan perulangan for.\"\"\"\n",
        "    total = 0\n",
        "\n",
        "    # Perulangan untuk menjumlahkan nilai\n",
        "    # Mengiterasi setiap elemen (nilai) di dalam list data_nilai\n",
        "    for nilai in data_nilai:\n",
        "        total += nilai\n",
        "\n",
        "    # Pengecekan untuk rata-rata\n",
        "    # Menghitung jumlah elemen (panjang list) menggunakan len()\n",
        "    jumlah_elemen = len(data_nilai)\n",
        "\n",
        "    if jumlah_elemen > 0:\n",
        "        # Jika ada elemen, bagi total dengan jumlah elemen\n",
        "        return total / jumlah_elemen\n",
        "\n",
        "    # Jika list kosong, kembalikan 0\n",
        "    return 0\n",
        "\n",
        "# Pemanggilan:\n",
        "nilai_praktikan = [85, 78, 92, 65, 90]\n",
        "rata_rata_kelas = hitung_rata_rata(nilai_praktikan)\n",
        "print(f\"Nilai rata-rata kelas adalah: {rata_rata_kelas}\")"
      ],
      "metadata": {
        "colab": {
          "base_uri": "https://localhost:8080/"
        },
        "id": "J8wOO-KJ_osE",
        "outputId": "f27d1380-24e6-484f-bb04-468dfb5247ce"
      },
      "execution_count": 5,
      "outputs": [
        {
          "output_type": "stream",
          "name": "stdout",
          "text": [
            "Nilai rata-rata kelas adalah: 82.0\n"
          ]
        }
      ]
    },
    {
      "cell_type": "code",
      "source": [
        "# MODIFIKASI: Menghitung Rata-rata dengan Pengecekan Outlier\n",
        "def hitung_rata_rata_modifikasi(data_nilai):\n",
        "    \"\"\"Menghitung rata-rata, mengabaikan nilai di luar rentang [0, 100].\"\"\"\n",
        "    total = 0\n",
        "    jumlah_nilai_valid = 0\n",
        "\n",
        "    # Perulangan untuk menjumlahkan nilai\n",
        "    for nilai in data_nilai:\n",
        "        # Pengecekan IF: Nilai harus berada dalam rentang 0 hingga 100 (inklusif)\n",
        "        if 0 <= nilai <= 100:\n",
        "            total += nilai              # Tambahkan hanya nilai yang valid\n",
        "            jumlah_nilai_valid += 1     # Hitung jumlah nilai yang valid\n",
        "\n",
        "    # Pengecekan untuk rata-rata\n",
        "    if jumlah_nilai_valid > 0:\n",
        "        return total / jumlah_nilai_valid\n",
        "\n",
        "    return 0\n",
        "\n",
        "# Pemanggilan dengan data uji (termasuk nilai outlier: -5 dan 105)\n",
        "nilai_praktikan_outlier = [85, 78, -5, 92, 105, 65, 90]\n",
        "rata_rata_modifikasi = hitung_rata_rata_modifikasi(nilai_praktikan_outlier)\n",
        "\n",
        "print(\"\\n--- Jawaban Modifikasi ---\")\n",
        "print(f\"List Nilai Awal (dengan outlier): {nilai_praktikan_outlier}\")\n",
        "print(f\"Nilai rata-rata (hanya nilai valid) adalah: {rata_rata_modifikasi}\")\n",
        "# Perhitungan: (85+78+92+65+90) / 5 = 410 / 5 = 82.0"
      ],
      "metadata": {
        "colab": {
          "base_uri": "https://localhost:8080/"
        },
        "id": "X9dxiGN1AlRS",
        "outputId": "6cd38a23-1928-4f1f-f6a7-adcee2ecf130"
      },
      "execution_count": 6,
      "outputs": [
        {
          "output_type": "stream",
          "name": "stdout",
          "text": [
            "\n",
            "--- Jawaban Modifikasi ---\n",
            "List Nilai Awal (dengan outlier): [85, 78, -5, 92, 105, 65, 90]\n",
            "Nilai rata-rata (hanya nilai valid) adalah: 82.0\n"
          ]
        }
      ]
    },
    {
      "cell_type": "code",
      "source": [
        "# SOAL 4: Sistem Penentuan Predikat Nilai\n",
        "def tentukan_predikat(skor):\n",
        "    \"\"\"Menentukan predikat (A, B, C, D, E) berdasarkan skor.\"\"\"\n",
        "\n",
        "    # Predikat A: Skor >= 85\n",
        "    if skor >= 85:\n",
        "        return \"A\"\n",
        "\n",
        "    # Predikat B: Skor 70 - 84. (Tidak perlu cek <= 84 karena sudah tersaring di atas)\n",
        "    elif skor >= 70:\n",
        "        return \"B\"\n",
        "\n",
        "    # Predikat C: Skor 60 - 69. (Tidak perlu cek <= 69)\n",
        "    elif skor >= 60:\n",
        "        return \"C\"\n",
        "\n",
        "    # Predikat D: Skor 50 - 59. (Tidak perlu cek <= 59)\n",
        "    elif skor >= 50:\n",
        "        return \"D\"\n",
        "\n",
        "    # Predikat E: Skor < 50. (Sisa skor yang tidak memenuhi kondisi di atas)\n",
        "    else:\n",
        "        return \"E\"\n",
        "\n",
        "# Pemanggilan:\n",
        "print(f\"Skor 75 mendapat predikat: {tentukan_predikat(75)}\")\n",
        "print(f\"Skor 48 mendapat predikat: {tentukan_predikat(48)}\")"
      ],
      "metadata": {
        "colab": {
          "base_uri": "https://localhost:8080/"
        },
        "id": "FRmRLeuOBLhc",
        "outputId": "3d305b0a-87bc-4796-ece1-c3b9855f5ec4"
      },
      "execution_count": 7,
      "outputs": [
        {
          "output_type": "stream",
          "name": "stdout",
          "text": [
            "Skor 75 mendapat predikat: B\n",
            "Skor 48 mendapat predikat: E\n"
          ]
        }
      ]
    },
    {
      "cell_type": "code",
      "source": [
        "# MODIFIKASI: Menambahkan Pengecekan Tipe Data\n",
        "def tentukan_predikat_aman(skor):\n",
        "    \"\"\"Menentukan predikat (A, B, C, D, E) setelah memvalidasi tipe data.\"\"\"\n",
        "\n",
        "    # Pengecekan Tipe Data: Memastikan skor adalah integer (int) atau float\n",
        "    if not isinstance(skor, (int, float)):\n",
        "        return \"Error: Input harus berupa angka (int/float)\"\n",
        "\n",
        "    # Logika Penentuan Predikat (Sama seperti Soal 4)\n",
        "    if skor >= 85:\n",
        "        return \"A\"\n",
        "    elif skor >= 70:\n",
        "        return \"B\"\n",
        "    elif skor >= 60:\n",
        "        return \"C\"\n",
        "    elif skor >= 50:\n",
        "        return \"D\"\n",
        "    else:\n",
        "        return \"E\"\n",
        "\n",
        "# Pemanggilan Uji Coba:\n",
        "print(\"\\n--- Jawaban Modifikasi ---\")\n",
        "print(f\"Skor 88 mendapat predikat: {tentukan_predikat_aman(88)}\")\n",
        "print(f\"Input 'abc' mendapat: {tentukan_predikat_aman('abc')}\")"
      ],
      "metadata": {
        "colab": {
          "base_uri": "https://localhost:8080/"
        },
        "id": "aYlHbmOACRbc",
        "outputId": "f4771ca0-d617-49dc-9719-1577a863d40e"
      },
      "execution_count": 8,
      "outputs": [
        {
          "output_type": "stream",
          "name": "stdout",
          "text": [
            "\n",
            "--- Jawaban Modifikasi ---\n",
            "Skor 88 mendapat predikat: A\n",
            "Input 'abc' mendapat: Error: Input harus berupa angka (int/float)\n"
          ]
        }
      ]
    },
    {
      "cell_type": "code",
      "source": [
        "# SOAL 5: Menghitung Faktorial dengan Loop While\n",
        "def hitung_faktorial(n):\n",
        "    \"\"\"Menghitung faktorial dari bilangan positif n.\"\"\"\n",
        "    hasil = 1\n",
        "\n",
        "    # Perulangan berjalan selama n lebih besar dari 1\n",
        "    # Kita perlu mengalikan n dengan hasil, lalu mengurangi n, hingga n = 1\n",
        "    while n > 1:\n",
        "        hasil *= n  # Ekuivalen dengan: hasil = hasil * n\n",
        "        n -= 1      # Kurangi n. Ekuivalen dengan: n = n - 1\n",
        "\n",
        "    return hasil\n",
        "\n",
        "# Pemanggilan:\n",
        "bilangan_n = 4\n",
        "print(f\"Faktorial dari {bilangan_n} adalah: {hitung_faktorial(bilangan_n)}\")\n",
        "# Output: Faktorial dari 4 adalah: 24 (Karena 4*3*2*1 = 24)"
      ],
      "metadata": {
        "colab": {
          "base_uri": "https://localhost:8080/"
        },
        "id": "bHOLPhgQCxvW",
        "outputId": "6a255a0f-bb6f-4e75-e695-29fce67fd188"
      },
      "execution_count": 9,
      "outputs": [
        {
          "output_type": "stream",
          "name": "stdout",
          "text": [
            "Faktorial dari 4 adalah: 24\n"
          ]
        }
      ]
    },
    {
      "cell_type": "code",
      "source": [
        "# MODIFIKASI: Menghitung Faktorial dengan Validasi Input\n",
        "def hitung_faktorial_aman(n):\n",
        "    \"\"\"Menghitung faktorial, menangani kasus n=0 dan n negatif.\"\"\"\n",
        "\n",
        "    # 1. Penanganan Kasus Bilangan Negatif\n",
        "    if n < 0:\n",
        "        return \"Error: Faktorial tidak terdefinisi untuk bilangan negatif.\"\n",
        "\n",
        "    # 2. Penanganan Kasus n = 0\n",
        "    elif n == 0:\n",
        "        return 1 # Faktorial 0! = 1\n",
        "\n",
        "    # 3. Proses Faktorial untuk n Positif (n >= 1)\n",
        "    hasil = 1\n",
        "    # Perulangan tetap berjalan selama n > 1\n",
        "    while n > 1:\n",
        "        hasil *= n\n",
        "        n -= 1\n",
        "\n",
        "    return hasil\n",
        "\n",
        "# Pemanggilan Uji Coba:\n",
        "print(\"\\n--- Jawaban Modifikasi ---\")\n",
        "print(f\"Faktorial dari 5 adalah: {hitung_faktorial_aman(5)}\")\n",
        "print(f\"Faktorial dari 0 adalah: {hitung_faktorial_aman(0)}\")\n",
        "print(f\"Faktorial dari -2 adalah: {hitung_faktorial_aman(-2)}\")"
      ],
      "metadata": {
        "colab": {
          "base_uri": "https://localhost:8080/"
        },
        "id": "K7bNOkHUDl5B",
        "outputId": "3512c053-9f9f-49c7-8fce-b98098064245"
      },
      "execution_count": 10,
      "outputs": [
        {
          "output_type": "stream",
          "name": "stdout",
          "text": [
            "\n",
            "--- Jawaban Modifikasi ---\n",
            "Faktorial dari 5 adalah: 120\n",
            "Faktorial dari 0 adalah: 1\n",
            "Faktorial dari -2 adalah: Error: Faktorial tidak terdefinisi untuk bilangan negatif.\n"
          ]
        }
      ]
    },
    {
      "cell_type": "code",
      "source": [
        "# SOAL 6: Analisis Data Suhu Ekstrem (for dan if/elif)\n",
        "def analisis_suhu(data_suhu):\n",
        "    \"\"\"Menghitung jumlah hari Panas dan Dingin dari data_suhu.\"\"\"\n",
        "    panas_count = 0\n",
        "    dingin_count = 0  # Inisialisasi dingin_count\n",
        "\n",
        "    # Perulangan untuk mengecek setiap suhu\n",
        "    for suhu in data_suhu:\n",
        "        # Pengecekan Panas (>= 35°C)\n",
        "        if suhu >= 35:\n",
        "            panas_count += 1\n",
        "\n",
        "        # Pengecekan Dingin (<= 15°C)\n",
        "        elif suhu <= 15: # Menggunakan elif agar suhu 35°C tidak dihitung dingin\n",
        "            dingin_count += 1\n",
        "\n",
        "    # Mengembalikan dua nilai (tuple)\n",
        "    return panas_count, dingin_count\n",
        "\n",
        "# Pemanggilan:\n",
        "suhu_mingguan = [36, 30, 14, 25, 38, 16, 28]\n",
        "jumlah_panas, jumlah_dingin = analisis_suhu(suhu_mingguan)\n",
        "\n",
        "print(f\"Jumlah hari Panas (>=35°C): {jumlah_panas}\")\n",
        "print(f\"Jumlah hari Dingin (<=15°C): {jumlah_dingin}\")"
      ],
      "metadata": {
        "colab": {
          "base_uri": "https://localhost:8080/"
        },
        "id": "8IQC6gWRD-qQ",
        "outputId": "79e4b183-0521-4eb3-ed02-e108e90bdbf2"
      },
      "execution_count": 11,
      "outputs": [
        {
          "output_type": "stream",
          "name": "stdout",
          "text": [
            "Jumlah hari Panas (>=35°C): 2\n",
            "Jumlah hari Dingin (<=15°C): 1\n"
          ]
        }
      ]
    },
    {
      "cell_type": "code",
      "source": [
        "# MODIFIKASI: Fungsi dengan Parameter Opsional (Default)\n",
        "def analisis_suhu_fleksibel(data_suhu, batas_panas=35, batas_dingin=15):\n",
        "    \"\"\"\n",
        "    Menghitung jumlah hari Panas dan Dingin dengan batas suhu yang fleksibel.\n",
        "    batas_panas default 35, batas_dingin default 15.\n",
        "    \"\"\"\n",
        "    panas_count = 0\n",
        "    dingin_count = 0\n",
        "\n",
        "    for suhu in data_suhu:\n",
        "        # Pengecekan Panas (menggunakan batas_panas)\n",
        "        if suhu >= batas_panas:\n",
        "            panas_count += 1\n",
        "\n",
        "        # Pengecekan Dingin (menggunakan batas_dingin)\n",
        "        # Menggunakan elif untuk memastikan suatu hari hanya dikategorikan sebagai Panas ATAU Dingin\n",
        "        elif suhu <= batas_dingin:\n",
        "            dingin_count += 1\n",
        "\n",
        "    return panas_count, dingin_count\n",
        "\n",
        "# Pemanggilan Uji Coba:\n",
        "suhu_data = [36, 30, 14, 25, 38, 16, 28]\n",
        "\n",
        "print(\"\\n--- Jawaban Modifikasi ---\")\n",
        "# 1. Pemanggilan dengan nilai default (35 dan 15)\n",
        "p1, d1 = analisis_suhu_fleksibel(suhu_data)\n",
        "print(f\"Default (Panas >=35, Dingin <=15): Panas={p1}, Dingin={d1}\")\n",
        "\n",
        "# 2. Pemanggilan dengan batas kustom (Panas >=30, Dingin <=20)\n",
        "p2, d2 = analisis_suhu_fleksibel(suhu_data, batas_panas=30, batas_dingin=20)\n",
        "print(f\"Kustom (Panas >=30, Dingin <=20): Panas={p2}, Dingin={d2}\")"
      ],
      "metadata": {
        "colab": {
          "base_uri": "https://localhost:8080/"
        },
        "id": "tbn0vb6sFNQI",
        "outputId": "8c14614f-5b8b-4870-ecf5-7dd82842af1d"
      },
      "execution_count": 12,
      "outputs": [
        {
          "output_type": "stream",
          "name": "stdout",
          "text": [
            "\n",
            "--- Jawaban Modifikasi ---\n",
            "Default (Panas >=35, Dingin <=15): Panas=2, Dingin=1\n",
            "Kustom (Panas >=30, Dingin <=20): Panas=3, Dingin=2\n"
          ]
        }
      ]
    }
  ]
}