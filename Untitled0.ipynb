{
  "cells": [
    {
      "cell_type": "markdown",
      "metadata": {
        "id": "view-in-github",
        "colab_type": "text"
      },
      "source": [
        "<a href=\"https://colab.research.google.com/github/hikkaarya/Pemerograman-Dasar/blob/main/Untitled0.ipynb\" target=\"_parent\"><img src=\"https://colab.research.google.com/assets/colab-badge.svg\" alt=\"Open In Colab\"/></a>"
      ]
    },
    {
      "cell_type": "code",
      "execution_count": null,
      "metadata": {
        "colab": {
          "background_save": true
        },
        "id": "cJZkwkODfo0o",
        "outputId": "a94b91f0-3e98-4961-af67-3430a96c879a"
      },
      "outputs": [
        {
          "name": "stdout",
          "output_type": "stream",
          "text": [
            "\n",
            "--- Output ---\n",
            "Nama Pelanggan : 3\n",
            "Jumlah Porsi   : 3.0\n"
          ]
        }
      ],
      "source": [
        "# Program input dengan tipe data float dan string\n",
        "\n",
        "total = float(input(\"Berapa porsi makan yang Anda beli? : \"))\n",
        "nama  = str(input(\"Siapa Nama Pelanggan ? : \"))\n",
        "\n",
        "print(\"\\n--- Output ---\")\n",
        "print(\"Nama Pelanggan :\", nama)\n",
        "print(\"Jumlah Porsi   :\", total)\n"
      ]
    },
    {
      "cell_type": "code",
      "execution_count": null,
      "metadata": {
        "colab": {
          "background_save": true
        },
        "id": "ppqd-p3vnQmA",
        "outputId": "4cb533ef-7451-46e5-b310-8a9b21723ff6"
      },
      "outputs": [
        {
          "name": "stdout",
          "output_type": "stream",
          "text": [
            "=== Contoh Output dengan Format ===\n",
            "Arya sedang memesan Mi ayam bakso\n",
            "Jumlah porsi: 3\n",
            "Harga per porsi: 12.500000\n",
            "Kode pesanan dalam hex: ff\n",
            "Kode pesanan dalam octal: 377\n"
          ]
        }
      ],
      "source": [
        "# Contoh penggunaan berbagai operator format output\n",
        "\n",
        "nama   = \"Arya\"\n",
        "makanan = \"Mi ayam bakso\"\n",
        "porsi  = 3          # integer\n",
        "harga  = 12.5       # float\n",
        "kode   = 255        # integer untuk contoh hex dan octal\n",
        "\n",
        "print(\"=== Contoh Output dengan Format ===\")\n",
        "print(\"%s sedang memesan %s\" % (nama, makanan))     # %s untuk string\n",
        "print(\"Jumlah porsi: %d\" % porsi)                   # %d untuk integer\n",
        "print(\"Harga per porsi: %f\" % harga)                # %f untuk float\n",
        "print(\"Kode pesanan dalam hex: %x\" % kode)          # %x untuk heksadesimal\n",
        "print(\"Kode pesanan dalam octal: %o\" % kode)        # %o untuk oktal\n"
      ]
    },
    {
      "cell_type": "code",
      "execution_count": null,
      "metadata": {
        "colab": {
          "background_save": true
        },
        "id": "hcHm8qx3slmf",
        "outputId": "ddc71422-e6cd-4489-ad35-cfcdb3161136"
      },
      "outputs": [
        {
          "name": "stdout",
          "output_type": "stream",
          "text": [
            "Hasil Konversi: 99 Jam, 30 Menit, 0 Detik\n"
          ]
        }
      ],
      "source": [
        "# Konversi Waktu dari Total Detik ke Jam:Menit:Detik\n",
        "\n",
        "# Input dari keyboard\n",
        "total_detik = int(input(\"Masukkan total detik: \"))\n",
        "\n",
        "# Hitung jam, menit, detik\n",
        "jam = total_detik // 3600\n",
        "sisa_detik = total_detik % 3600\n",
        "menit = sisa_detik // 60\n",
        "detik = sisa_detik % 60\n",
        "\n",
        "# Tampilkan hasil\n",
        "print(f\"Hasil Konversi: {jam} Jam, {menit} Menit, {detik} Detik\")\n"
      ]
    },
    {
      "cell_type": "code",
      "execution_count": null,
      "metadata": {
        "id": "2kXB3jdUxa7A"
      },
      "outputs": [],
      "source": [
        "# Program Menghitung Nilai Akhir Mahasiswa\n",
        "\n",
        "# Input nilai mahasiswa\n",
        "tugas = float(input(\"Masukkan nilai Tugas: \"))\n",
        "kuis = float(input(\"Masukkan nilai Kuis: \"))\n",
        "uts = float(input(\"Masukkan nilai UTS: \"))\n",
        "uas = float(input(\"Masukkan nilai UAS: \"))\n",
        "praktikum = float(input(\"Masukkan nilai Praktikum: \"))\n",
        "\n",
        "# Hitung nilai akhir (bobot bisa disesuaikan sesuai aturan dosen)\n",
        "nilai_mahasiswa = (0.2 * tugas) + (0.1 * kuis) + (0.3 * uts) + (0.3 * uas) + (0.1 * praktikum)\n",
        "\n",
        "# Input standar kelulusan\n",
        "standar_kelulusan = float(input(\"Masukkan standar kelulusan: \"))\n",
        "\n",
        "# Cek apakah lulus atau remedial\n",
        "apakah_lulus = nilai_mahasiswa >= standar_kelulusan\n",
        "perlu_remedial = nilai_mahasiswa < standar_kelulusan\n",
        "\n",
        "# Tampilkan hasil\n",
        "print(\"\\n=== Hasil Akhir ===\")\n",
        "print(f\"Nilai Akhir Mahasiswa: {nilai_mahasiswa}\")\n",
        "print(f\"Standar Kelulusan: {standar_kelulusan}\")\n",
        "print(f\"Apakah Mahasiswa Lulus? {apakah_lulus}\")\n",
        "print(f\"Perlu Remedial? {perlu_remedial}\")\n"
      ]
    },
    {
      "cell_type": "code",
      "execution_count": null,
      "metadata": {
        "id": "j3LdNbrG0Vs2"
      },
      "outputs": [],
      "source": [
        "# Program Menghitung Total Harga dengan Diskon\n",
        "\n",
        "# Input belanja via keyboard\n",
        "belanja = int(input(\"Masukkan total belanja: \"))\n",
        "\n",
        "# Hitung diskon\n",
        "diskon = (0, 0.35 * belanja)[belanja > 1000000]\n",
        "\n",
        "# Hitung total harga setelah diskon\n",
        "total_harga = belanja - diskon\n",
        "\n",
        "# Tampilkan hasil\n",
        "print(\"Total harga setelah diskon =\", total_harga)\n"
      ]
    },
    {
      "cell_type": "code",
      "execution_count": null,
      "metadata": {
        "id": "tGJXGS7C3JBV"
      },
      "outputs": [],
      "source": [
        "(tahun % 4 == 0 and tahun % 100 != 0) or (tahun % 400 == 0)\n"
      ]
    },
    {
      "cell_type": "code",
      "execution_count": null,
      "metadata": {
        "id": "JPGJEc4u3ZvM"
      },
      "outputs": [],
      "source": [
        "# Fungsi input tahun\n",
        "def input_tahun():\n",
        "    return int(input(\"Masukkan tahun: \"))\n",
        "\n",
        "# Fungsi untuk mengecek apakah tahun kabisat\n",
        "def cek_kabisat(tahun):\n",
        "    return (tahun % 4 == 0 and tahun % 100 != 0) or (tahun % 400 == 0)\n",
        "\n",
        "# Fungsi output hasil tanpa if\n",
        "def output_hasil(tahun, hasil):\n",
        "    print(f\"Tahun {tahun} adalah tahun kabisat? {hasil}\")\n",
        "\n",
        "# Program utama\n",
        "def main():\n",
        "    tahun = input_tahun()\n",
        "    hasil = cek_kabisat(tahun)\n",
        "    output_hasil(tahun, hasil)\n",
        "\n",
        "# Jalankan program\n",
        "main()\n"
      ]
    },
    {
      "cell_type": "code",
      "execution_count": null,
      "metadata": {
        "id": "Z91yu3Zd5-El"
      },
      "outputs": [],
      "source": [
        "# Program Kasir Sederhana Kedai Kopi\n",
        "\n",
        "# Input data belanja (harga tiap item dalam list)\n",
        "items = [25000, 30000, 55000]   # contoh: 3 item kopi\n",
        "is_member = True                # status pelanggan (True jika member, False jika bukan)\n",
        "\n",
        "# 1. Hitung Subtotal\n",
        "subtotal = sum(items)\n",
        "\n",
        "# 2. Evaluasi syarat diskon\n",
        "syarat_diskon = is_member and subtotal > 100000\n",
        "\n",
        "# 3. Hitung jumlah diskon (15% jika memenuhi syarat, kalau tidak 0)\n",
        "diskon = (0.15 * subtotal) * syarat_diskon\n",
        "\n",
        "# 4. Hitung harga setelah diskon\n",
        "harga_setelah_diskon = subtotal - diskon\n",
        "\n",
        "# 5. Hitung PPN (11% dari harga setelah diskon)\n",
        "ppn = 0.11 * harga_setelah_diskon\n",
        "\n",
        "# 6. Hitung total akhir\n",
        "total_akhir = harga_setelah_diskon + ppn\n",
        "\n",
        "# Output hasil\n",
        "print(\"==== Struk Belanja Kedai Kopi ====\")\n",
        "print(f\"Subtotal            : Rp{subtotal:,.0f}\")\n",
        "print(f\"Diskon              : Rp{diskon:,.0f}\")\n",
        "print(f\"Harga setelah diskon: Rp{harga_setelah_diskon:,.0f}\")\n",
        "print(f\"PPN (11%)           : Rp{ppn:,.0f}\")\n",
        "print(f\"Total Akhir         : Rp{total_akhir:,.0f}\")\n",
        "\n"
      ]
    }
  ],
  "metadata": {
    "colab": {
      "provenance": [],
      "authorship_tag": "ABX9TyNCU10PSBVuzceTjoQ8f1OR",
      "include_colab_link": true
    },
    "kernelspec": {
      "display_name": "Python 3",
      "name": "python3"
    },
    "language_info": {
      "name": "python"
    }
  },
  "nbformat": 4,
  "nbformat_minor": 0
}